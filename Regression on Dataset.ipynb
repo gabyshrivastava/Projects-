{
 "cells": [
  {
   "cell_type": "markdown",
   "metadata": {},
   "source": [
    "# Applying KNN Regression on given dataset"
   ]
  },
  {
   "cell_type": "code",
   "execution_count": 1,
   "metadata": {},
   "outputs": [],
   "source": [
    "# Importing all required Libraries \n",
    "import numpy as np\n",
    "import pandas as pd\n",
    "import matplotlib.pyplot as plt \n",
    "\n",
    "from sklearn.model_selection import train_test_split\n",
    "from sklearn.preprocessing import StandardScaler"
   ]
  },
  {
   "cell_type": "code",
   "execution_count": 2,
   "metadata": {},
   "outputs": [],
   "source": [
    "# reading test and train data with pandas \n",
    "\n",
    "df_train = pd.read_csv('train.csv')\n",
    "df_test = pd.read_csv('test.csv')"
   ]
  },
  {
   "cell_type": "code",
   "execution_count": 3,
   "metadata": {},
   "outputs": [
    {
     "data": {
      "text/html": [
       "<div>\n",
       "<style scoped>\n",
       "    .dataframe tbody tr th:only-of-type {\n",
       "        vertical-align: middle;\n",
       "    }\n",
       "\n",
       "    .dataframe tbody tr th {\n",
       "        vertical-align: top;\n",
       "    }\n",
       "\n",
       "    .dataframe thead th {\n",
       "        text-align: right;\n",
       "    }\n",
       "</style>\n",
       "<table border=\"1\" class=\"dataframe\">\n",
       "  <thead>\n",
       "    <tr style=\"text-align: right;\">\n",
       "      <th></th>\n",
       "      <th>data1</th>\n",
       "      <th>data2</th>\n",
       "      <th>data3</th>\n",
       "      <th>data4</th>\n",
       "      <th>data5</th>\n",
       "      <th>data6</th>\n",
       "      <th>data7</th>\n",
       "      <th>data8</th>\n",
       "      <th>data9</th>\n",
       "      <th>data10</th>\n",
       "      <th>output</th>\n",
       "    </tr>\n",
       "  </thead>\n",
       "  <tbody>\n",
       "    <tr>\n",
       "      <th>0</th>\n",
       "      <td>8</td>\n",
       "      <td>279</td>\n",
       "      <td>C</td>\n",
       "      <td>14.451155</td>\n",
       "      <td>1139.0</td>\n",
       "      <td>1.0</td>\n",
       "      <td>9.302908</td>\n",
       "      <td>1.0</td>\n",
       "      <td>M</td>\n",
       "      <td>p</td>\n",
       "      <td>86.108947</td>\n",
       "    </tr>\n",
       "    <tr>\n",
       "      <th>1</th>\n",
       "      <td>1</td>\n",
       "      <td>108</td>\n",
       "      <td>H</td>\n",
       "      <td>14.207448</td>\n",
       "      <td>1656.0</td>\n",
       "      <td>1.0</td>\n",
       "      <td>7.220130</td>\n",
       "      <td>0.0</td>\n",
       "      <td>M</td>\n",
       "      <td>p</td>\n",
       "      <td>42.606833</td>\n",
       "    </tr>\n",
       "    <tr>\n",
       "      <th>2</th>\n",
       "      <td>8</td>\n",
       "      <td>258</td>\n",
       "      <td>A</td>\n",
       "      <td>19.220830</td>\n",
       "      <td>2817.0</td>\n",
       "      <td>1.0</td>\n",
       "      <td>8.727214</td>\n",
       "      <td>1.0</td>\n",
       "      <td>M</td>\n",
       "      <td>p</td>\n",
       "      <td>85.625961</td>\n",
       "    </tr>\n",
       "    <tr>\n",
       "      <th>3</th>\n",
       "      <td>4</td>\n",
       "      <td>147</td>\n",
       "      <td>A</td>\n",
       "      <td>15.752732</td>\n",
       "      <td>1948.0</td>\n",
       "      <td>1.0</td>\n",
       "      <td>6.078818</td>\n",
       "      <td>1.0</td>\n",
       "      <td>M</td>\n",
       "      <td>p</td>\n",
       "      <td>53.656277</td>\n",
       "    </tr>\n",
       "    <tr>\n",
       "      <th>4</th>\n",
       "      <td>5</td>\n",
       "      <td>230</td>\n",
       "      <td>H</td>\n",
       "      <td>10.195407</td>\n",
       "      <td>1336.0</td>\n",
       "      <td>1.0</td>\n",
       "      <td>4.749185</td>\n",
       "      <td>0.0</td>\n",
       "      <td>M</td>\n",
       "      <td>p</td>\n",
       "      <td>64.925051</td>\n",
       "    </tr>\n",
       "  </tbody>\n",
       "</table>\n",
       "</div>"
      ],
      "text/plain": [
       "   data1  data2 data3      data4   data5  data6     data7  data8 data9 data10  \\\n",
       "0      8    279     C  14.451155  1139.0    1.0  9.302908    1.0     M      p   \n",
       "1      1    108     H  14.207448  1656.0    1.0  7.220130    0.0     M      p   \n",
       "2      8    258     A  19.220830  2817.0    1.0  8.727214    1.0     M      p   \n",
       "3      4    147     A  15.752732  1948.0    1.0  6.078818    1.0     M      p   \n",
       "4      5    230     H  10.195407  1336.0    1.0  4.749185    0.0     M      p   \n",
       "\n",
       "      output  \n",
       "0  86.108947  \n",
       "1  42.606833  \n",
       "2  85.625961  \n",
       "3  53.656277  \n",
       "4  64.925051  "
      ]
     },
     "execution_count": 3,
     "metadata": {},
     "output_type": "execute_result"
    }
   ],
   "source": [
    "# observing the data  \n",
    "df_train.head()"
   ]
  },
  {
   "cell_type": "code",
   "execution_count": 4,
   "metadata": {},
   "outputs": [
    {
     "data": {
      "text/html": [
       "<div>\n",
       "<style scoped>\n",
       "    .dataframe tbody tr th:only-of-type {\n",
       "        vertical-align: middle;\n",
       "    }\n",
       "\n",
       "    .dataframe tbody tr th {\n",
       "        vertical-align: top;\n",
       "    }\n",
       "\n",
       "    .dataframe thead th {\n",
       "        text-align: right;\n",
       "    }\n",
       "</style>\n",
       "<table border=\"1\" class=\"dataframe\">\n",
       "  <thead>\n",
       "    <tr style=\"text-align: right;\">\n",
       "      <th></th>\n",
       "      <th>data1</th>\n",
       "      <th>data2</th>\n",
       "      <th>data3</th>\n",
       "      <th>data4</th>\n",
       "      <th>data5</th>\n",
       "      <th>data6</th>\n",
       "      <th>data7</th>\n",
       "      <th>data8</th>\n",
       "      <th>data9</th>\n",
       "      <th>data10</th>\n",
       "      <th>output</th>\n",
       "    </tr>\n",
       "  </thead>\n",
       "  <tbody>\n",
       "    <tr>\n",
       "      <th>9995</th>\n",
       "      <td>9</td>\n",
       "      <td>263</td>\n",
       "      <td>A</td>\n",
       "      <td>16.604215</td>\n",
       "      <td>1070.0</td>\n",
       "      <td>0.0</td>\n",
       "      <td>8.979149</td>\n",
       "      <td>2.0</td>\n",
       "      <td>F</td>\n",
       "      <td>p</td>\n",
       "      <td>85.922943</td>\n",
       "    </tr>\n",
       "    <tr>\n",
       "      <th>9996</th>\n",
       "      <td>5</td>\n",
       "      <td>280</td>\n",
       "      <td>E</td>\n",
       "      <td>28.758911</td>\n",
       "      <td>2652.0</td>\n",
       "      <td>0.0</td>\n",
       "      <td>3.574129</td>\n",
       "      <td>0.0</td>\n",
       "      <td>F</td>\n",
       "      <td>p</td>\n",
       "      <td>90.857149</td>\n",
       "    </tr>\n",
       "    <tr>\n",
       "      <th>9997</th>\n",
       "      <td>6</td>\n",
       "      <td>188</td>\n",
       "      <td>D</td>\n",
       "      <td>15.963267</td>\n",
       "      <td>1359.0</td>\n",
       "      <td>0.0</td>\n",
       "      <td>2.880019</td>\n",
       "      <td>0.0</td>\n",
       "      <td>F</td>\n",
       "      <td>p</td>\n",
       "      <td>61.246960</td>\n",
       "    </tr>\n",
       "    <tr>\n",
       "      <th>9998</th>\n",
       "      <td>1</td>\n",
       "      <td>132</td>\n",
       "      <td>H</td>\n",
       "      <td>11.683401</td>\n",
       "      <td>1793.0</td>\n",
       "      <td>0.0</td>\n",
       "      <td>6.983192</td>\n",
       "      <td>2.0</td>\n",
       "      <td>F</td>\n",
       "      <td>p</td>\n",
       "      <td>45.298253</td>\n",
       "    </tr>\n",
       "    <tr>\n",
       "      <th>9999</th>\n",
       "      <td>5</td>\n",
       "      <td>264</td>\n",
       "      <td>A</td>\n",
       "      <td>21.176115</td>\n",
       "      <td>1792.0</td>\n",
       "      <td>0.0</td>\n",
       "      <td>8.276101</td>\n",
       "      <td>2.0</td>\n",
       "      <td>F</td>\n",
       "      <td>p</td>\n",
       "      <td>85.534604</td>\n",
       "    </tr>\n",
       "  </tbody>\n",
       "</table>\n",
       "</div>"
      ],
      "text/plain": [
       "      data1  data2 data3      data4   data5  data6     data7  data8 data9  \\\n",
       "9995      9    263     A  16.604215  1070.0    0.0  8.979149    2.0     F   \n",
       "9996      5    280     E  28.758911  2652.0    0.0  3.574129    0.0     F   \n",
       "9997      6    188     D  15.963267  1359.0    0.0  2.880019    0.0     F   \n",
       "9998      1    132     H  11.683401  1793.0    0.0  6.983192    2.0     F   \n",
       "9999      5    264     A  21.176115  1792.0    0.0  8.276101    2.0     F   \n",
       "\n",
       "     data10     output  \n",
       "9995      p  85.922943  \n",
       "9996      p  90.857149  \n",
       "9997      p  61.246960  \n",
       "9998      p  45.298253  \n",
       "9999      p  85.534604  "
      ]
     },
     "execution_count": 4,
     "metadata": {},
     "output_type": "execute_result"
    }
   ],
   "source": [
    "df_train.tail()"
   ]
  },
  {
   "cell_type": "code",
   "execution_count": 5,
   "metadata": {
    "scrolled": true
   },
   "outputs": [
    {
     "data": {
      "text/html": [
       "<div>\n",
       "<style scoped>\n",
       "    .dataframe tbody tr th:only-of-type {\n",
       "        vertical-align: middle;\n",
       "    }\n",
       "\n",
       "    .dataframe tbody tr th {\n",
       "        vertical-align: top;\n",
       "    }\n",
       "\n",
       "    .dataframe thead th {\n",
       "        text-align: right;\n",
       "    }\n",
       "</style>\n",
       "<table border=\"1\" class=\"dataframe\">\n",
       "  <thead>\n",
       "    <tr style=\"text-align: right;\">\n",
       "      <th></th>\n",
       "      <th>data1</th>\n",
       "      <th>data2</th>\n",
       "      <th>data3</th>\n",
       "      <th>data4</th>\n",
       "      <th>data5</th>\n",
       "      <th>data6</th>\n",
       "      <th>data7</th>\n",
       "      <th>data8</th>\n",
       "      <th>data9</th>\n",
       "      <th>data10</th>\n",
       "    </tr>\n",
       "  </thead>\n",
       "  <tbody>\n",
       "    <tr>\n",
       "      <th>0</th>\n",
       "      <td>7</td>\n",
       "      <td>195</td>\n",
       "      <td>A</td>\n",
       "      <td>29.038043</td>\n",
       "      <td>2725</td>\n",
       "      <td>1</td>\n",
       "      <td>6.145731</td>\n",
       "      <td>2</td>\n",
       "      <td>M</td>\n",
       "      <td>p</td>\n",
       "    </tr>\n",
       "    <tr>\n",
       "      <th>1</th>\n",
       "      <td>9</td>\n",
       "      <td>109</td>\n",
       "      <td>F</td>\n",
       "      <td>20.221431</td>\n",
       "      <td>1184</td>\n",
       "      <td>1</td>\n",
       "      <td>9.334184</td>\n",
       "      <td>2</td>\n",
       "      <td>M</td>\n",
       "      <td>p</td>\n",
       "    </tr>\n",
       "    <tr>\n",
       "      <th>2</th>\n",
       "      <td>0</td>\n",
       "      <td>126</td>\n",
       "      <td>C</td>\n",
       "      <td>26.477532</td>\n",
       "      <td>2975</td>\n",
       "      <td>1</td>\n",
       "      <td>9.021806</td>\n",
       "      <td>1</td>\n",
       "      <td>M</td>\n",
       "      <td>p</td>\n",
       "    </tr>\n",
       "    <tr>\n",
       "      <th>3</th>\n",
       "      <td>2</td>\n",
       "      <td>209</td>\n",
       "      <td>E</td>\n",
       "      <td>13.445450</td>\n",
       "      <td>1067</td>\n",
       "      <td>1</td>\n",
       "      <td>1.814993</td>\n",
       "      <td>0</td>\n",
       "      <td>M</td>\n",
       "      <td>p</td>\n",
       "    </tr>\n",
       "    <tr>\n",
       "      <th>4</th>\n",
       "      <td>5</td>\n",
       "      <td>268</td>\n",
       "      <td>B</td>\n",
       "      <td>25.065894</td>\n",
       "      <td>1336</td>\n",
       "      <td>1</td>\n",
       "      <td>1.639130</td>\n",
       "      <td>1</td>\n",
       "      <td>M</td>\n",
       "      <td>p</td>\n",
       "    </tr>\n",
       "  </tbody>\n",
       "</table>\n",
       "</div>"
      ],
      "text/plain": [
       "   data1  data2 data3      data4  data5  data6     data7  data8 data9 data10\n",
       "0      7    195     A  29.038043   2725      1  6.145731      2     M      p\n",
       "1      9    109     F  20.221431   1184      1  9.334184      2     M      p\n",
       "2      0    126     C  26.477532   2975      1  9.021806      1     M      p\n",
       "3      2    209     E  13.445450   1067      1  1.814993      0     M      p\n",
       "4      5    268     B  25.065894   1336      1  1.639130      1     M      p"
      ]
     },
     "execution_count": 5,
     "metadata": {},
     "output_type": "execute_result"
    }
   ],
   "source": [
    "df_test.head()"
   ]
  },
  {
   "cell_type": "code",
   "execution_count": 6,
   "metadata": {
    "scrolled": true
   },
   "outputs": [
    {
     "data": {
      "text/html": [
       "<div>\n",
       "<style scoped>\n",
       "    .dataframe tbody tr th:only-of-type {\n",
       "        vertical-align: middle;\n",
       "    }\n",
       "\n",
       "    .dataframe tbody tr th {\n",
       "        vertical-align: top;\n",
       "    }\n",
       "\n",
       "    .dataframe thead th {\n",
       "        text-align: right;\n",
       "    }\n",
       "</style>\n",
       "<table border=\"1\" class=\"dataframe\">\n",
       "  <thead>\n",
       "    <tr style=\"text-align: right;\">\n",
       "      <th></th>\n",
       "      <th>data1</th>\n",
       "      <th>data2</th>\n",
       "      <th>data3</th>\n",
       "      <th>data4</th>\n",
       "      <th>data5</th>\n",
       "      <th>data6</th>\n",
       "      <th>data7</th>\n",
       "      <th>data8</th>\n",
       "      <th>data9</th>\n",
       "      <th>data10</th>\n",
       "    </tr>\n",
       "  </thead>\n",
       "  <tbody>\n",
       "    <tr>\n",
       "      <th>9995</th>\n",
       "      <td>7</td>\n",
       "      <td>251</td>\n",
       "      <td>D</td>\n",
       "      <td>23.004384</td>\n",
       "      <td>1637</td>\n",
       "      <td>0</td>\n",
       "      <td>8.333728</td>\n",
       "      <td>1</td>\n",
       "      <td>F</td>\n",
       "      <td>p</td>\n",
       "    </tr>\n",
       "    <tr>\n",
       "      <th>9996</th>\n",
       "      <td>5</td>\n",
       "      <td>275</td>\n",
       "      <td>A</td>\n",
       "      <td>29.514058</td>\n",
       "      <td>2339</td>\n",
       "      <td>0</td>\n",
       "      <td>9.953107</td>\n",
       "      <td>1</td>\n",
       "      <td>F</td>\n",
       "      <td>p</td>\n",
       "    </tr>\n",
       "    <tr>\n",
       "      <th>9997</th>\n",
       "      <td>8</td>\n",
       "      <td>168</td>\n",
       "      <td>C</td>\n",
       "      <td>22.520965</td>\n",
       "      <td>1827</td>\n",
       "      <td>0</td>\n",
       "      <td>7.555553</td>\n",
       "      <td>1</td>\n",
       "      <td>F</td>\n",
       "      <td>p</td>\n",
       "    </tr>\n",
       "    <tr>\n",
       "      <th>9998</th>\n",
       "      <td>4</td>\n",
       "      <td>296</td>\n",
       "      <td>E</td>\n",
       "      <td>16.558948</td>\n",
       "      <td>1748</td>\n",
       "      <td>0</td>\n",
       "      <td>8.846995</td>\n",
       "      <td>1</td>\n",
       "      <td>F</td>\n",
       "      <td>p</td>\n",
       "    </tr>\n",
       "    <tr>\n",
       "      <th>9999</th>\n",
       "      <td>7</td>\n",
       "      <td>281</td>\n",
       "      <td>C</td>\n",
       "      <td>18.546089</td>\n",
       "      <td>1651</td>\n",
       "      <td>0</td>\n",
       "      <td>8.907220</td>\n",
       "      <td>2</td>\n",
       "      <td>F</td>\n",
       "      <td>p</td>\n",
       "    </tr>\n",
       "  </tbody>\n",
       "</table>\n",
       "</div>"
      ],
      "text/plain": [
       "      data1  data2 data3      data4  data5  data6     data7  data8 data9  \\\n",
       "9995      7    251     D  23.004384   1637      0  8.333728      1     F   \n",
       "9996      5    275     A  29.514058   2339      0  9.953107      1     F   \n",
       "9997      8    168     C  22.520965   1827      0  7.555553      1     F   \n",
       "9998      4    296     E  16.558948   1748      0  8.846995      1     F   \n",
       "9999      7    281     C  18.546089   1651      0  8.907220      2     F   \n",
       "\n",
       "     data10  \n",
       "9995      p  \n",
       "9996      p  \n",
       "9997      p  \n",
       "9998      p  \n",
       "9999      p  "
      ]
     },
     "execution_count": 6,
     "metadata": {},
     "output_type": "execute_result"
    }
   ],
   "source": [
    "df_test.tail()"
   ]
  },
  {
   "cell_type": "code",
   "execution_count": 7,
   "metadata": {
    "scrolled": true
   },
   "outputs": [
    {
     "data": {
      "text/html": [
       "<div>\n",
       "<style scoped>\n",
       "    .dataframe tbody tr th:only-of-type {\n",
       "        vertical-align: middle;\n",
       "    }\n",
       "\n",
       "    .dataframe tbody tr th {\n",
       "        vertical-align: top;\n",
       "    }\n",
       "\n",
       "    .dataframe thead th {\n",
       "        text-align: right;\n",
       "    }\n",
       "</style>\n",
       "<table border=\"1\" class=\"dataframe\">\n",
       "  <thead>\n",
       "    <tr style=\"text-align: right;\">\n",
       "      <th></th>\n",
       "      <th>data1</th>\n",
       "      <th>data2</th>\n",
       "      <th>data4</th>\n",
       "      <th>data5</th>\n",
       "      <th>data6</th>\n",
       "      <th>data7</th>\n",
       "      <th>data8</th>\n",
       "      <th>output</th>\n",
       "    </tr>\n",
       "  </thead>\n",
       "  <tbody>\n",
       "    <tr>\n",
       "      <th>count</th>\n",
       "      <td>10000.000000</td>\n",
       "      <td>10000.000000</td>\n",
       "      <td>10000.000000</td>\n",
       "      <td>9999.000000</td>\n",
       "      <td>9997.000000</td>\n",
       "      <td>9998.000000</td>\n",
       "      <td>9999.000000</td>\n",
       "      <td>9999.000000</td>\n",
       "    </tr>\n",
       "    <tr>\n",
       "      <th>mean</th>\n",
       "      <td>4.500200</td>\n",
       "      <td>199.937000</td>\n",
       "      <td>19.980069</td>\n",
       "      <td>1999.994099</td>\n",
       "      <td>0.499850</td>\n",
       "      <td>5.032647</td>\n",
       "      <td>0.989699</td>\n",
       "      <td>67.641293</td>\n",
       "    </tr>\n",
       "    <tr>\n",
       "      <th>std</th>\n",
       "      <td>3.468602</td>\n",
       "      <td>57.637745</td>\n",
       "      <td>5.790647</td>\n",
       "      <td>575.293177</td>\n",
       "      <td>0.500025</td>\n",
       "      <td>2.882390</td>\n",
       "      <td>0.812112</td>\n",
       "      <td>13.373996</td>\n",
       "    </tr>\n",
       "    <tr>\n",
       "      <th>min</th>\n",
       "      <td>0.000000</td>\n",
       "      <td>100.000000</td>\n",
       "      <td>0.000000</td>\n",
       "      <td>4.000000</td>\n",
       "      <td>0.000000</td>\n",
       "      <td>0.001195</td>\n",
       "      <td>0.000000</td>\n",
       "      <td>30.857090</td>\n",
       "    </tr>\n",
       "    <tr>\n",
       "      <th>25%</th>\n",
       "      <td>2.000000</td>\n",
       "      <td>149.000000</td>\n",
       "      <td>14.928790</td>\n",
       "      <td>1505.000000</td>\n",
       "      <td>0.000000</td>\n",
       "      <td>2.541841</td>\n",
       "      <td>0.000000</td>\n",
       "      <td>57.393568</td>\n",
       "    </tr>\n",
       "    <tr>\n",
       "      <th>50%</th>\n",
       "      <td>4.000000</td>\n",
       "      <td>201.000000</td>\n",
       "      <td>20.000361</td>\n",
       "      <td>1999.000000</td>\n",
       "      <td>0.000000</td>\n",
       "      <td>5.008526</td>\n",
       "      <td>1.000000</td>\n",
       "      <td>67.877814</td>\n",
       "    </tr>\n",
       "    <tr>\n",
       "      <th>75%</th>\n",
       "      <td>7.000000</td>\n",
       "      <td>250.000000</td>\n",
       "      <td>24.979557</td>\n",
       "      <td>2490.000000</td>\n",
       "      <td>1.000000</td>\n",
       "      <td>7.520097</td>\n",
       "      <td>2.000000</td>\n",
       "      <td>77.831703</td>\n",
       "    </tr>\n",
       "    <tr>\n",
       "      <th>max</th>\n",
       "      <td>200.000000</td>\n",
       "      <td>299.000000</td>\n",
       "      <td>70.002000</td>\n",
       "      <td>2999.000000</td>\n",
       "      <td>1.000000</td>\n",
       "      <td>9.999848</td>\n",
       "      <td>2.000000</td>\n",
       "      <td>103.809450</td>\n",
       "    </tr>\n",
       "  </tbody>\n",
       "</table>\n",
       "</div>"
      ],
      "text/plain": [
       "              data1         data2         data4        data5        data6  \\\n",
       "count  10000.000000  10000.000000  10000.000000  9999.000000  9997.000000   \n",
       "mean       4.500200    199.937000     19.980069  1999.994099     0.499850   \n",
       "std        3.468602     57.637745      5.790647   575.293177     0.500025   \n",
       "min        0.000000    100.000000      0.000000     4.000000     0.000000   \n",
       "25%        2.000000    149.000000     14.928790  1505.000000     0.000000   \n",
       "50%        4.000000    201.000000     20.000361  1999.000000     0.000000   \n",
       "75%        7.000000    250.000000     24.979557  2490.000000     1.000000   \n",
       "max      200.000000    299.000000     70.002000  2999.000000     1.000000   \n",
       "\n",
       "             data7        data8       output  \n",
       "count  9998.000000  9999.000000  9999.000000  \n",
       "mean      5.032647     0.989699    67.641293  \n",
       "std       2.882390     0.812112    13.373996  \n",
       "min       0.001195     0.000000    30.857090  \n",
       "25%       2.541841     0.000000    57.393568  \n",
       "50%       5.008526     1.000000    67.877814  \n",
       "75%       7.520097     2.000000    77.831703  \n",
       "max       9.999848     2.000000   103.809450  "
      ]
     },
     "execution_count": 7,
     "metadata": {},
     "output_type": "execute_result"
    }
   ],
   "source": [
    "df_train.describe()"
   ]
  },
  {
   "cell_type": "code",
   "execution_count": 8,
   "metadata": {},
   "outputs": [
    {
     "name": "stdout",
     "output_type": "stream",
     "text": [
      "<class 'pandas.core.frame.DataFrame'>\n",
      "RangeIndex: 10000 entries, 0 to 9999\n",
      "Data columns (total 11 columns):\n",
      " #   Column  Non-Null Count  Dtype  \n",
      "---  ------  --------------  -----  \n",
      " 0   data1   10000 non-null  int64  \n",
      " 1   data2   10000 non-null  int64  \n",
      " 2   data3   10000 non-null  object \n",
      " 3   data4   10000 non-null  float64\n",
      " 4   data5   9999 non-null   float64\n",
      " 5   data6   9997 non-null   float64\n",
      " 6   data7   9998 non-null   float64\n",
      " 7   data8   9999 non-null   float64\n",
      " 8   data9   9999 non-null   object \n",
      " 9   data10  9999 non-null   object \n",
      " 10  output  9999 non-null   float64\n",
      "dtypes: float64(6), int64(2), object(3)\n",
      "memory usage: 859.5+ KB\n"
     ]
    }
   ],
   "source": [
    "df_train.info()"
   ]
  },
  {
   "cell_type": "code",
   "execution_count": 9,
   "metadata": {},
   "outputs": [
    {
     "data": {
      "text/plain": [
       "data1     0\n",
       "data2     0\n",
       "data3     0\n",
       "data4     0\n",
       "data5     1\n",
       "data6     3\n",
       "data7     2\n",
       "data8     1\n",
       "data9     1\n",
       "data10    1\n",
       "output    1\n",
       "dtype: int64"
      ]
     },
     "execution_count": 9,
     "metadata": {},
     "output_type": "execute_result"
    }
   ],
   "source": [
    "df_train.isnull().sum()"
   ]
  },
  {
   "cell_type": "code",
   "execution_count": 10,
   "metadata": {},
   "outputs": [
    {
     "data": {
      "text/html": [
       "<div>\n",
       "<style scoped>\n",
       "    .dataframe tbody tr th:only-of-type {\n",
       "        vertical-align: middle;\n",
       "    }\n",
       "\n",
       "    .dataframe tbody tr th {\n",
       "        vertical-align: top;\n",
       "    }\n",
       "\n",
       "    .dataframe thead th {\n",
       "        text-align: right;\n",
       "    }\n",
       "</style>\n",
       "<table border=\"1\" class=\"dataframe\">\n",
       "  <thead>\n",
       "    <tr style=\"text-align: right;\">\n",
       "      <th></th>\n",
       "      <th>data1</th>\n",
       "      <th>data2</th>\n",
       "      <th>data3</th>\n",
       "      <th>data4</th>\n",
       "      <th>data5</th>\n",
       "      <th>data6</th>\n",
       "      <th>data7</th>\n",
       "      <th>data8</th>\n",
       "      <th>data9</th>\n",
       "      <th>data10</th>\n",
       "      <th>output</th>\n",
       "    </tr>\n",
       "  </thead>\n",
       "  <tbody>\n",
       "    <tr>\n",
       "      <th>175</th>\n",
       "      <td>0</td>\n",
       "      <td>157</td>\n",
       "      <td>H</td>\n",
       "      <td>13.140898</td>\n",
       "      <td>NaN</td>\n",
       "      <td>NaN</td>\n",
       "      <td>NaN</td>\n",
       "      <td>NaN</td>\n",
       "      <td>NaN</td>\n",
       "      <td>NaN</td>\n",
       "      <td>NaN</td>\n",
       "    </tr>\n",
       "  </tbody>\n",
       "</table>\n",
       "</div>"
      ],
      "text/plain": [
       "     data1  data2 data3      data4  data5  data6  data7  data8 data9 data10  \\\n",
       "175      0    157     H  13.140898    NaN    NaN    NaN    NaN   NaN    NaN   \n",
       "\n",
       "     output  \n",
       "175     NaN  "
      ]
     },
     "execution_count": 10,
     "metadata": {},
     "output_type": "execute_result"
    }
   ],
   "source": [
    "df_train[df_train['data5'].isnull()]"
   ]
  },
  {
   "cell_type": "code",
   "execution_count": 11,
   "metadata": {},
   "outputs": [
    {
     "data": {
      "text/html": [
       "<div>\n",
       "<style scoped>\n",
       "    .dataframe tbody tr th:only-of-type {\n",
       "        vertical-align: middle;\n",
       "    }\n",
       "\n",
       "    .dataframe tbody tr th {\n",
       "        vertical-align: top;\n",
       "    }\n",
       "\n",
       "    .dataframe thead th {\n",
       "        text-align: right;\n",
       "    }\n",
       "</style>\n",
       "<table border=\"1\" class=\"dataframe\">\n",
       "  <thead>\n",
       "    <tr style=\"text-align: right;\">\n",
       "      <th></th>\n",
       "      <th>data1</th>\n",
       "      <th>data2</th>\n",
       "      <th>data3</th>\n",
       "      <th>data4</th>\n",
       "      <th>data5</th>\n",
       "      <th>data6</th>\n",
       "      <th>data7</th>\n",
       "      <th>data8</th>\n",
       "      <th>data9</th>\n",
       "      <th>data10</th>\n",
       "      <th>output</th>\n",
       "    </tr>\n",
       "  </thead>\n",
       "  <tbody>\n",
       "    <tr>\n",
       "      <th>40</th>\n",
       "      <td>0</td>\n",
       "      <td>128</td>\n",
       "      <td>E</td>\n",
       "      <td>29.546179</td>\n",
       "      <td>2181.0</td>\n",
       "      <td>NaN</td>\n",
       "      <td>NaN</td>\n",
       "      <td>2.0</td>\n",
       "      <td>M</td>\n",
       "      <td>p</td>\n",
       "      <td>57.219083</td>\n",
       "    </tr>\n",
       "    <tr>\n",
       "      <th>43</th>\n",
       "      <td>2</td>\n",
       "      <td>219</td>\n",
       "      <td>A</td>\n",
       "      <td>25.589476</td>\n",
       "      <td>1539.0</td>\n",
       "      <td>NaN</td>\n",
       "      <td>7.085797</td>\n",
       "      <td>2.0</td>\n",
       "      <td>M</td>\n",
       "      <td>p</td>\n",
       "      <td>75.916325</td>\n",
       "    </tr>\n",
       "    <tr>\n",
       "      <th>175</th>\n",
       "      <td>0</td>\n",
       "      <td>157</td>\n",
       "      <td>H</td>\n",
       "      <td>13.140898</td>\n",
       "      <td>NaN</td>\n",
       "      <td>NaN</td>\n",
       "      <td>NaN</td>\n",
       "      <td>NaN</td>\n",
       "      <td>NaN</td>\n",
       "      <td>NaN</td>\n",
       "      <td>NaN</td>\n",
       "    </tr>\n",
       "  </tbody>\n",
       "</table>\n",
       "</div>"
      ],
      "text/plain": [
       "     data1  data2 data3      data4   data5  data6     data7  data8 data9  \\\n",
       "40       0    128     E  29.546179  2181.0    NaN       NaN    2.0     M   \n",
       "43       2    219     A  25.589476  1539.0    NaN  7.085797    2.0     M   \n",
       "175      0    157     H  13.140898     NaN    NaN       NaN    NaN   NaN   \n",
       "\n",
       "    data10     output  \n",
       "40       p  57.219083  \n",
       "43       p  75.916325  \n",
       "175    NaN        NaN  "
      ]
     },
     "execution_count": 11,
     "metadata": {},
     "output_type": "execute_result"
    }
   ],
   "source": [
    "df_train[df_train['data6'].isnull()]"
   ]
  },
  {
   "cell_type": "code",
   "execution_count": 12,
   "metadata": {},
   "outputs": [
    {
     "data": {
      "text/html": [
       "<div>\n",
       "<style scoped>\n",
       "    .dataframe tbody tr th:only-of-type {\n",
       "        vertical-align: middle;\n",
       "    }\n",
       "\n",
       "    .dataframe tbody tr th {\n",
       "        vertical-align: top;\n",
       "    }\n",
       "\n",
       "    .dataframe thead th {\n",
       "        text-align: right;\n",
       "    }\n",
       "</style>\n",
       "<table border=\"1\" class=\"dataframe\">\n",
       "  <thead>\n",
       "    <tr style=\"text-align: right;\">\n",
       "      <th></th>\n",
       "      <th>data1</th>\n",
       "      <th>data2</th>\n",
       "      <th>data3</th>\n",
       "      <th>data4</th>\n",
       "      <th>data5</th>\n",
       "      <th>data6</th>\n",
       "      <th>data7</th>\n",
       "      <th>data8</th>\n",
       "      <th>data9</th>\n",
       "      <th>data10</th>\n",
       "      <th>output</th>\n",
       "    </tr>\n",
       "  </thead>\n",
       "  <tbody>\n",
       "    <tr>\n",
       "      <th>40</th>\n",
       "      <td>0</td>\n",
       "      <td>128</td>\n",
       "      <td>E</td>\n",
       "      <td>29.546179</td>\n",
       "      <td>2181.0</td>\n",
       "      <td>NaN</td>\n",
       "      <td>NaN</td>\n",
       "      <td>2.0</td>\n",
       "      <td>M</td>\n",
       "      <td>p</td>\n",
       "      <td>57.219083</td>\n",
       "    </tr>\n",
       "    <tr>\n",
       "      <th>175</th>\n",
       "      <td>0</td>\n",
       "      <td>157</td>\n",
       "      <td>H</td>\n",
       "      <td>13.140898</td>\n",
       "      <td>NaN</td>\n",
       "      <td>NaN</td>\n",
       "      <td>NaN</td>\n",
       "      <td>NaN</td>\n",
       "      <td>NaN</td>\n",
       "      <td>NaN</td>\n",
       "      <td>NaN</td>\n",
       "    </tr>\n",
       "  </tbody>\n",
       "</table>\n",
       "</div>"
      ],
      "text/plain": [
       "     data1  data2 data3      data4   data5  data6  data7  data8 data9 data10  \\\n",
       "40       0    128     E  29.546179  2181.0    NaN    NaN    2.0     M      p   \n",
       "175      0    157     H  13.140898     NaN    NaN    NaN    NaN   NaN    NaN   \n",
       "\n",
       "        output  \n",
       "40   57.219083  \n",
       "175        NaN  "
      ]
     },
     "execution_count": 12,
     "metadata": {},
     "output_type": "execute_result"
    }
   ],
   "source": [
    "df_train[df_train['data7'].isnull()]"
   ]
  },
  {
   "cell_type": "code",
   "execution_count": 13,
   "metadata": {},
   "outputs": [
    {
     "data": {
      "text/html": [
       "<div>\n",
       "<style scoped>\n",
       "    .dataframe tbody tr th:only-of-type {\n",
       "        vertical-align: middle;\n",
       "    }\n",
       "\n",
       "    .dataframe tbody tr th {\n",
       "        vertical-align: top;\n",
       "    }\n",
       "\n",
       "    .dataframe thead th {\n",
       "        text-align: right;\n",
       "    }\n",
       "</style>\n",
       "<table border=\"1\" class=\"dataframe\">\n",
       "  <thead>\n",
       "    <tr style=\"text-align: right;\">\n",
       "      <th></th>\n",
       "      <th>data1</th>\n",
       "      <th>data2</th>\n",
       "      <th>data3</th>\n",
       "      <th>data4</th>\n",
       "      <th>data5</th>\n",
       "      <th>data6</th>\n",
       "      <th>data7</th>\n",
       "      <th>data8</th>\n",
       "      <th>data9</th>\n",
       "      <th>data10</th>\n",
       "      <th>output</th>\n",
       "    </tr>\n",
       "  </thead>\n",
       "  <tbody>\n",
       "    <tr>\n",
       "      <th>175</th>\n",
       "      <td>0</td>\n",
       "      <td>157</td>\n",
       "      <td>H</td>\n",
       "      <td>13.140898</td>\n",
       "      <td>NaN</td>\n",
       "      <td>NaN</td>\n",
       "      <td>NaN</td>\n",
       "      <td>NaN</td>\n",
       "      <td>NaN</td>\n",
       "      <td>NaN</td>\n",
       "      <td>NaN</td>\n",
       "    </tr>\n",
       "  </tbody>\n",
       "</table>\n",
       "</div>"
      ],
      "text/plain": [
       "     data1  data2 data3      data4  data5  data6  data7  data8 data9 data10  \\\n",
       "175      0    157     H  13.140898    NaN    NaN    NaN    NaN   NaN    NaN   \n",
       "\n",
       "     output  \n",
       "175     NaN  "
      ]
     },
     "execution_count": 13,
     "metadata": {},
     "output_type": "execute_result"
    }
   ],
   "source": [
    "df_train[df_train['data8'].isnull()]"
   ]
  },
  {
   "cell_type": "code",
   "execution_count": 14,
   "metadata": {},
   "outputs": [
    {
     "data": {
      "text/html": [
       "<div>\n",
       "<style scoped>\n",
       "    .dataframe tbody tr th:only-of-type {\n",
       "        vertical-align: middle;\n",
       "    }\n",
       "\n",
       "    .dataframe tbody tr th {\n",
       "        vertical-align: top;\n",
       "    }\n",
       "\n",
       "    .dataframe thead th {\n",
       "        text-align: right;\n",
       "    }\n",
       "</style>\n",
       "<table border=\"1\" class=\"dataframe\">\n",
       "  <thead>\n",
       "    <tr style=\"text-align: right;\">\n",
       "      <th></th>\n",
       "      <th>data1</th>\n",
       "      <th>data2</th>\n",
       "      <th>data3</th>\n",
       "      <th>data4</th>\n",
       "      <th>data5</th>\n",
       "      <th>data6</th>\n",
       "      <th>data7</th>\n",
       "      <th>data8</th>\n",
       "      <th>data9</th>\n",
       "      <th>data10</th>\n",
       "      <th>output</th>\n",
       "    </tr>\n",
       "  </thead>\n",
       "  <tbody>\n",
       "    <tr>\n",
       "      <th>175</th>\n",
       "      <td>0</td>\n",
       "      <td>157</td>\n",
       "      <td>H</td>\n",
       "      <td>13.140898</td>\n",
       "      <td>NaN</td>\n",
       "      <td>NaN</td>\n",
       "      <td>NaN</td>\n",
       "      <td>NaN</td>\n",
       "      <td>NaN</td>\n",
       "      <td>NaN</td>\n",
       "      <td>NaN</td>\n",
       "    </tr>\n",
       "  </tbody>\n",
       "</table>\n",
       "</div>"
      ],
      "text/plain": [
       "     data1  data2 data3      data4  data5  data6  data7  data8 data9 data10  \\\n",
       "175      0    157     H  13.140898    NaN    NaN    NaN    NaN   NaN    NaN   \n",
       "\n",
       "     output  \n",
       "175     NaN  "
      ]
     },
     "execution_count": 14,
     "metadata": {},
     "output_type": "execute_result"
    }
   ],
   "source": [
    "df_train[df_train['data9'].isnull()]"
   ]
  },
  {
   "cell_type": "code",
   "execution_count": 15,
   "metadata": {
    "scrolled": true
   },
   "outputs": [
    {
     "data": {
      "text/html": [
       "<div>\n",
       "<style scoped>\n",
       "    .dataframe tbody tr th:only-of-type {\n",
       "        vertical-align: middle;\n",
       "    }\n",
       "\n",
       "    .dataframe tbody tr th {\n",
       "        vertical-align: top;\n",
       "    }\n",
       "\n",
       "    .dataframe thead th {\n",
       "        text-align: right;\n",
       "    }\n",
       "</style>\n",
       "<table border=\"1\" class=\"dataframe\">\n",
       "  <thead>\n",
       "    <tr style=\"text-align: right;\">\n",
       "      <th></th>\n",
       "      <th>data1</th>\n",
       "      <th>data2</th>\n",
       "      <th>data3</th>\n",
       "      <th>data4</th>\n",
       "      <th>data5</th>\n",
       "      <th>data6</th>\n",
       "      <th>data7</th>\n",
       "      <th>data8</th>\n",
       "      <th>data9</th>\n",
       "      <th>data10</th>\n",
       "      <th>output</th>\n",
       "    </tr>\n",
       "  </thead>\n",
       "  <tbody>\n",
       "    <tr>\n",
       "      <th>175</th>\n",
       "      <td>0</td>\n",
       "      <td>157</td>\n",
       "      <td>H</td>\n",
       "      <td>13.140898</td>\n",
       "      <td>NaN</td>\n",
       "      <td>NaN</td>\n",
       "      <td>NaN</td>\n",
       "      <td>NaN</td>\n",
       "      <td>NaN</td>\n",
       "      <td>NaN</td>\n",
       "      <td>NaN</td>\n",
       "    </tr>\n",
       "  </tbody>\n",
       "</table>\n",
       "</div>"
      ],
      "text/plain": [
       "     data1  data2 data3      data4  data5  data6  data7  data8 data9 data10  \\\n",
       "175      0    157     H  13.140898    NaN    NaN    NaN    NaN   NaN    NaN   \n",
       "\n",
       "     output  \n",
       "175     NaN  "
      ]
     },
     "execution_count": 15,
     "metadata": {},
     "output_type": "execute_result"
    }
   ],
   "source": [
    "df_train[df_train['data10'].isnull()]"
   ]
  },
  {
   "cell_type": "markdown",
   "metadata": {},
   "source": [
    "#### Replacing the missing vales with mean with the help of for loop "
   ]
  },
  {
   "cell_type": "code",
   "execution_count": 16,
   "metadata": {},
   "outputs": [],
   "source": [
    "columns_with_null_values = ['data5','data6','data7','data8','output']\n",
    "\n",
    "for column in columns_with_null_values:\n",
    "    df_train[column] = df_train[column].replace(0, np.NaN)\n",
    "    mean = int(df_train[column].mean(skipna=True))\n",
    "    df_train[column] = df_train[column].replace(np.NaN ,mean)"
   ]
  },
  {
   "cell_type": "code",
   "execution_count": 17,
   "metadata": {},
   "outputs": [
    {
     "data": {
      "text/plain": [
       "data1     0\n",
       "data2     0\n",
       "data3     0\n",
       "data4     0\n",
       "data5     0\n",
       "data6     0\n",
       "data7     0\n",
       "data8     0\n",
       "data9     1\n",
       "data10    1\n",
       "output    0\n",
       "dtype: int64"
      ]
     },
     "execution_count": 17,
     "metadata": {},
     "output_type": "execute_result"
    }
   ],
   "source": [
    "df_train.isnull().sum()"
   ]
  },
  {
   "cell_type": "code",
   "execution_count": 18,
   "metadata": {},
   "outputs": [],
   "source": [
    "# droping nan  values  \n",
    "# on train dataset \n",
    "df_train.dropna(axis = 0, inplace = True)\n",
    "\n",
    "\n",
    "# on test dataset \n",
    "df_test.dropna(axis = 0, inplace = True)"
   ]
  },
  {
   "cell_type": "code",
   "execution_count": 19,
   "metadata": {
    "scrolled": true
   },
   "outputs": [
    {
     "data": {
      "text/plain": [
       "data1     0\n",
       "data2     0\n",
       "data3     0\n",
       "data4     0\n",
       "data5     0\n",
       "data6     0\n",
       "data7     0\n",
       "data8     0\n",
       "data9     0\n",
       "data10    0\n",
       "output    0\n",
       "dtype: int64"
      ]
     },
     "execution_count": 19,
     "metadata": {},
     "output_type": "execute_result"
    }
   ],
   "source": [
    "df_train.isnull().sum()"
   ]
  },
  {
   "cell_type": "code",
   "execution_count": 20,
   "metadata": {},
   "outputs": [
    {
     "data": {
      "text/plain": [
       "data1     0\n",
       "data2     0\n",
       "data3     0\n",
       "data4     0\n",
       "data5     0\n",
       "data6     0\n",
       "data7     0\n",
       "data8     0\n",
       "data9     0\n",
       "data10    0\n",
       "dtype: int64"
      ]
     },
     "execution_count": 20,
     "metadata": {},
     "output_type": "execute_result"
    }
   ],
   "source": [
    "df_test.isnull().sum()"
   ]
  },
  {
   "cell_type": "code",
   "execution_count": 21,
   "metadata": {
    "scrolled": false
   },
   "outputs": [
    {
     "data": {
      "text/html": [
       "<div>\n",
       "<style scoped>\n",
       "    .dataframe tbody tr th:only-of-type {\n",
       "        vertical-align: middle;\n",
       "    }\n",
       "\n",
       "    .dataframe tbody tr th {\n",
       "        vertical-align: top;\n",
       "    }\n",
       "\n",
       "    .dataframe thead th {\n",
       "        text-align: right;\n",
       "    }\n",
       "</style>\n",
       "<table border=\"1\" class=\"dataframe\">\n",
       "  <thead>\n",
       "    <tr style=\"text-align: right;\">\n",
       "      <th></th>\n",
       "      <th>data1</th>\n",
       "      <th>data2</th>\n",
       "      <th>data3</th>\n",
       "      <th>data4</th>\n",
       "      <th>data5</th>\n",
       "      <th>data6</th>\n",
       "      <th>data7</th>\n",
       "      <th>data8</th>\n",
       "      <th>data9</th>\n",
       "      <th>output</th>\n",
       "    </tr>\n",
       "  </thead>\n",
       "  <tbody>\n",
       "    <tr>\n",
       "      <th>0</th>\n",
       "      <td>8</td>\n",
       "      <td>279</td>\n",
       "      <td>C</td>\n",
       "      <td>14.451155</td>\n",
       "      <td>1139.0</td>\n",
       "      <td>1.0</td>\n",
       "      <td>9.302908</td>\n",
       "      <td>1.0</td>\n",
       "      <td>M</td>\n",
       "      <td>86.108947</td>\n",
       "    </tr>\n",
       "    <tr>\n",
       "      <th>1</th>\n",
       "      <td>1</td>\n",
       "      <td>108</td>\n",
       "      <td>H</td>\n",
       "      <td>14.207448</td>\n",
       "      <td>1656.0</td>\n",
       "      <td>1.0</td>\n",
       "      <td>7.220130</td>\n",
       "      <td>1.0</td>\n",
       "      <td>M</td>\n",
       "      <td>42.606833</td>\n",
       "    </tr>\n",
       "    <tr>\n",
       "      <th>2</th>\n",
       "      <td>8</td>\n",
       "      <td>258</td>\n",
       "      <td>A</td>\n",
       "      <td>19.220830</td>\n",
       "      <td>2817.0</td>\n",
       "      <td>1.0</td>\n",
       "      <td>8.727214</td>\n",
       "      <td>1.0</td>\n",
       "      <td>M</td>\n",
       "      <td>85.625961</td>\n",
       "    </tr>\n",
       "    <tr>\n",
       "      <th>3</th>\n",
       "      <td>4</td>\n",
       "      <td>147</td>\n",
       "      <td>A</td>\n",
       "      <td>15.752732</td>\n",
       "      <td>1948.0</td>\n",
       "      <td>1.0</td>\n",
       "      <td>6.078818</td>\n",
       "      <td>1.0</td>\n",
       "      <td>M</td>\n",
       "      <td>53.656277</td>\n",
       "    </tr>\n",
       "    <tr>\n",
       "      <th>4</th>\n",
       "      <td>5</td>\n",
       "      <td>230</td>\n",
       "      <td>H</td>\n",
       "      <td>10.195407</td>\n",
       "      <td>1336.0</td>\n",
       "      <td>1.0</td>\n",
       "      <td>4.749185</td>\n",
       "      <td>1.0</td>\n",
       "      <td>M</td>\n",
       "      <td>64.925051</td>\n",
       "    </tr>\n",
       "  </tbody>\n",
       "</table>\n",
       "</div>"
      ],
      "text/plain": [
       "   data1  data2 data3      data4   data5  data6     data7  data8 data9  \\\n",
       "0      8    279     C  14.451155  1139.0    1.0  9.302908    1.0     M   \n",
       "1      1    108     H  14.207448  1656.0    1.0  7.220130    1.0     M   \n",
       "2      8    258     A  19.220830  2817.0    1.0  8.727214    1.0     M   \n",
       "3      4    147     A  15.752732  1948.0    1.0  6.078818    1.0     M   \n",
       "4      5    230     H  10.195407  1336.0    1.0  4.749185    1.0     M   \n",
       "\n",
       "      output  \n",
       "0  86.108947  \n",
       "1  42.606833  \n",
       "2  85.625961  \n",
       "3  53.656277  \n",
       "4  64.925051  "
      ]
     },
     "execution_count": 21,
     "metadata": {},
     "output_type": "execute_result"
    }
   ],
   "source": [
    "# droping data10 because it doesnot contain valuable information\n",
    "\n",
    "#  for train dataset \n",
    "df_train.drop('data10', axis = 1 ,inplace =  True)\n",
    "df_train.head()\n"
   ]
  },
  {
   "cell_type": "code",
   "execution_count": 22,
   "metadata": {},
   "outputs": [
    {
     "data": {
      "text/plain": [
       "array(['C', 'H', 'A', 'F', 'B', 'G', 'E', 'D'], dtype=object)"
      ]
     },
     "execution_count": 22,
     "metadata": {},
     "output_type": "execute_result"
    }
   ],
   "source": [
    "#  converting catagorical data to numerical data \n",
    "df_train['data3'].unique()"
   ]
  },
  {
   "cell_type": "code",
   "execution_count": 23,
   "metadata": {
    "scrolled": true
   },
   "outputs": [
    {
     "data": {
      "text/plain": [
       "array(['M', 'F'], dtype=object)"
      ]
     },
     "execution_count": 23,
     "metadata": {},
     "output_type": "execute_result"
    }
   ],
   "source": [
    "df_train['data9'].unique()"
   ]
  },
  {
   "cell_type": "code",
   "execution_count": 24,
   "metadata": {},
   "outputs": [],
   "source": [
    "from sklearn import preprocessing \n",
    "\n",
    "# creating label encoder object\n",
    "LE = preprocessing.LabelEncoder() \n",
    "  \n",
    "# Encode labels in column 'species'. \n",
    "\n",
    "# training dataset\n",
    "df_train['data3']= LE.fit_transform(df_train['data3']) \n",
    "df_train['data9']= LE.fit_transform(df_train['data9'])\n",
    "\n",
    "   \n",
    "#testing dataset\n",
    "df_test['data3']= LE.fit_transform(df_test['data3']) \n",
    "df_test['data9']= LE.fit_transform(df_test['data9'])\n",
    "\n"
   ]
  },
  {
   "cell_type": "code",
   "execution_count": 25,
   "metadata": {},
   "outputs": [
    {
     "data": {
      "text/html": [
       "<div>\n",
       "<style scoped>\n",
       "    .dataframe tbody tr th:only-of-type {\n",
       "        vertical-align: middle;\n",
       "    }\n",
       "\n",
       "    .dataframe tbody tr th {\n",
       "        vertical-align: top;\n",
       "    }\n",
       "\n",
       "    .dataframe thead th {\n",
       "        text-align: right;\n",
       "    }\n",
       "</style>\n",
       "<table border=\"1\" class=\"dataframe\">\n",
       "  <thead>\n",
       "    <tr style=\"text-align: right;\">\n",
       "      <th></th>\n",
       "      <th>data1</th>\n",
       "      <th>data2</th>\n",
       "      <th>data3</th>\n",
       "      <th>data4</th>\n",
       "      <th>data5</th>\n",
       "      <th>data6</th>\n",
       "      <th>data7</th>\n",
       "      <th>data8</th>\n",
       "      <th>data9</th>\n",
       "      <th>output</th>\n",
       "    </tr>\n",
       "  </thead>\n",
       "  <tbody>\n",
       "    <tr>\n",
       "      <th>0</th>\n",
       "      <td>8</td>\n",
       "      <td>279</td>\n",
       "      <td>2</td>\n",
       "      <td>14.451155</td>\n",
       "      <td>1139.0</td>\n",
       "      <td>1.0</td>\n",
       "      <td>9.302908</td>\n",
       "      <td>1.0</td>\n",
       "      <td>1</td>\n",
       "      <td>86.108947</td>\n",
       "    </tr>\n",
       "    <tr>\n",
       "      <th>1</th>\n",
       "      <td>1</td>\n",
       "      <td>108</td>\n",
       "      <td>7</td>\n",
       "      <td>14.207448</td>\n",
       "      <td>1656.0</td>\n",
       "      <td>1.0</td>\n",
       "      <td>7.220130</td>\n",
       "      <td>1.0</td>\n",
       "      <td>1</td>\n",
       "      <td>42.606833</td>\n",
       "    </tr>\n",
       "    <tr>\n",
       "      <th>2</th>\n",
       "      <td>8</td>\n",
       "      <td>258</td>\n",
       "      <td>0</td>\n",
       "      <td>19.220830</td>\n",
       "      <td>2817.0</td>\n",
       "      <td>1.0</td>\n",
       "      <td>8.727214</td>\n",
       "      <td>1.0</td>\n",
       "      <td>1</td>\n",
       "      <td>85.625961</td>\n",
       "    </tr>\n",
       "    <tr>\n",
       "      <th>3</th>\n",
       "      <td>4</td>\n",
       "      <td>147</td>\n",
       "      <td>0</td>\n",
       "      <td>15.752732</td>\n",
       "      <td>1948.0</td>\n",
       "      <td>1.0</td>\n",
       "      <td>6.078818</td>\n",
       "      <td>1.0</td>\n",
       "      <td>1</td>\n",
       "      <td>53.656277</td>\n",
       "    </tr>\n",
       "    <tr>\n",
       "      <th>4</th>\n",
       "      <td>5</td>\n",
       "      <td>230</td>\n",
       "      <td>7</td>\n",
       "      <td>10.195407</td>\n",
       "      <td>1336.0</td>\n",
       "      <td>1.0</td>\n",
       "      <td>4.749185</td>\n",
       "      <td>1.0</td>\n",
       "      <td>1</td>\n",
       "      <td>64.925051</td>\n",
       "    </tr>\n",
       "  </tbody>\n",
       "</table>\n",
       "</div>"
      ],
      "text/plain": [
       "   data1  data2  data3      data4   data5  data6     data7  data8  data9  \\\n",
       "0      8    279      2  14.451155  1139.0    1.0  9.302908    1.0      1   \n",
       "1      1    108      7  14.207448  1656.0    1.0  7.220130    1.0      1   \n",
       "2      8    258      0  19.220830  2817.0    1.0  8.727214    1.0      1   \n",
       "3      4    147      0  15.752732  1948.0    1.0  6.078818    1.0      1   \n",
       "4      5    230      7  10.195407  1336.0    1.0  4.749185    1.0      1   \n",
       "\n",
       "      output  \n",
       "0  86.108947  \n",
       "1  42.606833  \n",
       "2  85.625961  \n",
       "3  53.656277  \n",
       "4  64.925051  "
      ]
     },
     "execution_count": 25,
     "metadata": {},
     "output_type": "execute_result"
    }
   ],
   "source": [
    "df_train.head()"
   ]
  },
  {
   "cell_type": "code",
   "execution_count": 26,
   "metadata": {},
   "outputs": [
    {
     "data": {
      "text/html": [
       "<div>\n",
       "<style scoped>\n",
       "    .dataframe tbody tr th:only-of-type {\n",
       "        vertical-align: middle;\n",
       "    }\n",
       "\n",
       "    .dataframe tbody tr th {\n",
       "        vertical-align: top;\n",
       "    }\n",
       "\n",
       "    .dataframe thead th {\n",
       "        text-align: right;\n",
       "    }\n",
       "</style>\n",
       "<table border=\"1\" class=\"dataframe\">\n",
       "  <thead>\n",
       "    <tr style=\"text-align: right;\">\n",
       "      <th></th>\n",
       "      <th>data1</th>\n",
       "      <th>data2</th>\n",
       "      <th>data3</th>\n",
       "      <th>data4</th>\n",
       "      <th>data5</th>\n",
       "      <th>data6</th>\n",
       "      <th>data7</th>\n",
       "      <th>data8</th>\n",
       "      <th>data9</th>\n",
       "      <th>data10</th>\n",
       "    </tr>\n",
       "  </thead>\n",
       "  <tbody>\n",
       "    <tr>\n",
       "      <th>0</th>\n",
       "      <td>7</td>\n",
       "      <td>195</td>\n",
       "      <td>0</td>\n",
       "      <td>29.038043</td>\n",
       "      <td>2725</td>\n",
       "      <td>1</td>\n",
       "      <td>6.145731</td>\n",
       "      <td>2</td>\n",
       "      <td>1</td>\n",
       "      <td>p</td>\n",
       "    </tr>\n",
       "    <tr>\n",
       "      <th>1</th>\n",
       "      <td>9</td>\n",
       "      <td>109</td>\n",
       "      <td>5</td>\n",
       "      <td>20.221431</td>\n",
       "      <td>1184</td>\n",
       "      <td>1</td>\n",
       "      <td>9.334184</td>\n",
       "      <td>2</td>\n",
       "      <td>1</td>\n",
       "      <td>p</td>\n",
       "    </tr>\n",
       "    <tr>\n",
       "      <th>2</th>\n",
       "      <td>0</td>\n",
       "      <td>126</td>\n",
       "      <td>2</td>\n",
       "      <td>26.477532</td>\n",
       "      <td>2975</td>\n",
       "      <td>1</td>\n",
       "      <td>9.021806</td>\n",
       "      <td>1</td>\n",
       "      <td>1</td>\n",
       "      <td>p</td>\n",
       "    </tr>\n",
       "    <tr>\n",
       "      <th>3</th>\n",
       "      <td>2</td>\n",
       "      <td>209</td>\n",
       "      <td>4</td>\n",
       "      <td>13.445450</td>\n",
       "      <td>1067</td>\n",
       "      <td>1</td>\n",
       "      <td>1.814993</td>\n",
       "      <td>0</td>\n",
       "      <td>1</td>\n",
       "      <td>p</td>\n",
       "    </tr>\n",
       "    <tr>\n",
       "      <th>4</th>\n",
       "      <td>5</td>\n",
       "      <td>268</td>\n",
       "      <td>1</td>\n",
       "      <td>25.065894</td>\n",
       "      <td>1336</td>\n",
       "      <td>1</td>\n",
       "      <td>1.639130</td>\n",
       "      <td>1</td>\n",
       "      <td>1</td>\n",
       "      <td>p</td>\n",
       "    </tr>\n",
       "  </tbody>\n",
       "</table>\n",
       "</div>"
      ],
      "text/plain": [
       "   data1  data2  data3      data4  data5  data6     data7  data8  data9 data10\n",
       "0      7    195      0  29.038043   2725      1  6.145731      2      1      p\n",
       "1      9    109      5  20.221431   1184      1  9.334184      2      1      p\n",
       "2      0    126      2  26.477532   2975      1  9.021806      1      1      p\n",
       "3      2    209      4  13.445450   1067      1  1.814993      0      1      p\n",
       "4      5    268      1  25.065894   1336      1  1.639130      1      1      p"
      ]
     },
     "execution_count": 26,
     "metadata": {},
     "output_type": "execute_result"
    }
   ],
   "source": [
    "df_test.head()"
   ]
  },
  {
   "cell_type": "code",
   "execution_count": 27,
   "metadata": {},
   "outputs": [
    {
     "data": {
      "text/plain": [
       "False"
      ]
     },
     "execution_count": 27,
     "metadata": {},
     "output_type": "execute_result"
    }
   ],
   "source": [
    "#Checking for null values\n",
    "\n",
    "np.any(np.isnan(df_train))"
   ]
  },
  {
   "cell_type": "code",
   "execution_count": 28,
   "metadata": {},
   "outputs": [],
   "source": [
    "# detecting outliers and removing it \n",
    "\n",
    "import seaborn as sns"
   ]
  },
  {
   "cell_type": "code",
   "execution_count": 29,
   "metadata": {},
   "outputs": [
    {
     "data": {
      "text/plain": [
       "<matplotlib.axes._subplots.AxesSubplot at 0x1cf02670c70>"
      ]
     },
     "execution_count": 29,
     "metadata": {},
     "output_type": "execute_result"
    },
    {
     "data": {
      "image/png": "[encoded data removed]",
      "text/plain": [
       "<Figure size 576x576 with 1 Axes>"
      ]
     },
     "metadata": {
      "needs_background": "light"
     },
     "output_type": "display_data"
    }
   ],
   "source": [
    "# data1 \n",
    "plt.figure(figsize = (8,8))\n",
    "sns.boxplot(df_train['data1'] )"
   ]
  },
  {
   "cell_type": "code",
   "execution_count": 30,
   "metadata": {},
   "outputs": [
    {
     "name": "stdout",
     "output_type": "stream",
     "text": [
      "Int64Index([18], dtype='int64')\n"
     ]
    }
   ],
   "source": [
    "#  one outlier is found in data1 therefore we have to  remove it\n",
    "i = df_train.loc[df_train['data1'] > 50].index\n",
    "print(i)\n",
    "df_train.drop(i, inplace = True)"
   ]
  },
  {
   "cell_type": "code",
   "execution_count": 31,
   "metadata": {},
   "outputs": [
    {
     "data": {
      "text/plain": [
       "<matplotlib.axes._subplots.AxesSubplot at 0x1cf02880d00>"
      ]
     },
     "execution_count": 31,
     "metadata": {},
     "output_type": "execute_result"
    },
    {
     "data": {
      "image/png": "[encoded data removed]",
      "text/plain": [
       "<Figure size 576x576 with 1 Axes>"
      ]
     },
     "metadata": {
      "needs_background": "light"
     },
     "output_type": "display_data"
    }
   ],
   "source": [
    "#  we can check that outlier is removed \n",
    "plt.figure(figsize = (8,8))\n",
    "sns.boxplot(df_train['data1'] )"
   ]
  },
  {
   "cell_type": "code",
   "execution_count": 32,
   "metadata": {},
   "outputs": [
    {
     "data": {
      "text/plain": [
       "<matplotlib.axes._subplots.AxesSubplot at 0x1cf0275e970>"
      ]
     },
     "execution_count": 32,
     "metadata": {},
     "output_type": "execute_result"
    },
    {
     "data": {
      "image/png": "[encoded data removed]",
      "text/plain": [
       "<Figure size 576x576 with 1 Axes>"
      ]
     },
     "metadata": {
      "needs_background": "light"
     },
     "output_type": "display_data"
    }
   ],
   "source": [
    "# data2 \n",
    "plt.figure(figsize = (8,8))\n",
    "sns.boxplot(df_train['data2'] )"
   ]
  },
  {
   "cell_type": "code",
   "execution_count": 33,
   "metadata": {
    "scrolled": false
   },
   "outputs": [
    {
     "data": {
      "text/plain": [
       "<matplotlib.axes._subplots.AxesSubplot at 0x1cf027c3c10>"
      ]
     },
     "execution_count": 33,
     "metadata": {},
     "output_type": "execute_result"
    },
    {
     "data": {
      "image/png": "[encoded data removed]",
      "text/plain": [
       "<Figure size 576x576 with 1 Axes>"
      ]
     },
     "metadata": {
      "needs_background": "light"
     },
     "output_type": "display_data"
    }
   ],
   "source": [
    "# data3\n",
    "plt.figure(figsize = (8,8))\n",
    "sns.boxplot(df_train['data3'] )"
   ]
  },
  {
   "cell_type": "code",
   "execution_count": 34,
   "metadata": {},
   "outputs": [
    {
     "data": {
      "text/plain": [
       "<matplotlib.axes._subplots.AxesSubplot at 0x1cf02822460>"
      ]
     },
     "execution_count": 34,
     "metadata": {},
     "output_type": "execute_result"
    },
    {
     "data": {
      "image/png": "[encoded data removed]",
      "text/plain": [
       "<Figure size 576x576 with 1 Axes>"
      ]
     },
     "metadata": {
      "needs_background": "light"
     },
     "output_type": "display_data"
    }
   ],
   "source": [
    "# data4\n",
    "plt.figure(figsize = (8,8))\n",
    "sns.boxplot(df_train['data4'] )"
   ]
  },
  {
   "cell_type": "code",
   "execution_count": 35,
   "metadata": {},
   "outputs": [
    {
     "name": "stdout",
     "output_type": "stream",
     "text": [
      "Int64Index([33], dtype='int64')\n",
      "Int64Index([81], dtype='int64')\n"
     ]
    }
   ],
   "source": [
    "#  two outliers are found in data4 therefore we have to  remove it\n",
    "i = df_train.loc[df_train['data4'] > 50].index\n",
    "print(i)\n",
    "df_train.drop(i, inplace = True)\n",
    "\n",
    "i = df_train.loc[df_train['data4'] < 10].index\n",
    "print(i)\n",
    "df_train.drop(i, inplace = True)"
   ]
  },
  {
   "cell_type": "code",
   "execution_count": 36,
   "metadata": {
    "scrolled": false
   },
   "outputs": [
    {
     "data": {
      "text/plain": [
       "<matplotlib.axes._subplots.AxesSubplot at 0x1cf028cda00>"
      ]
     },
     "execution_count": 36,
     "metadata": {},
     "output_type": "execute_result"
    },
    {
     "data": {
      "image/png": "[encoded data removed]",
      "text/plain": [
       "<Figure size 576x576 with 1 Axes>"
      ]
     },
     "metadata": {
      "needs_background": "light"
     },
     "output_type": "display_data"
    }
   ],
   "source": [
    "#  check if it is removed or not \n",
    "plt.figure(figsize = (8,8))\n",
    "sns.boxplot(df_train['data4'] )"
   ]
  },
  {
   "cell_type": "code",
   "execution_count": 37,
   "metadata": {},
   "outputs": [
    {
     "data": {
      "text/plain": [
       "<matplotlib.axes._subplots.AxesSubplot at 0x1cf028f7b20>"
      ]
     },
     "execution_count": 37,
     "metadata": {},
     "output_type": "execute_result"
    },
    {
     "data": {
      "image/png": "[encoded data removed]",
      "text/plain": [
       "<Figure size 576x576 with 1 Axes>"
      ]
     },
     "metadata": {
      "needs_background": "light"
     },
     "output_type": "display_data"
    }
   ],
   "source": [
    "# data5\n",
    "plt.figure(figsize = (8,8))\n",
    "sns.boxplot(df_train['data5'] )"
   ]
  },
  {
   "cell_type": "code",
   "execution_count": 38,
   "metadata": {},
   "outputs": [
    {
     "name": "stdout",
     "output_type": "stream",
     "text": [
      "Int64Index([46], dtype='int64')\n"
     ]
    }
   ],
   "source": [
    "#  one outlier is found in data5 therefore we have to  remove it\n",
    "i = df_train.loc[df_train['data5'] < 700].index\n",
    "print(i)\n",
    "df_train.drop(i, inplace = True)"
   ]
  },
  {
   "cell_type": "code",
   "execution_count": 39,
   "metadata": {},
   "outputs": [
    {
     "data": {
      "text/plain": [
       "<matplotlib.axes._subplots.AxesSubplot at 0x1cf02938d30>"
      ]
     },
     "execution_count": 39,
     "metadata": {},
     "output_type": "execute_result"
    },
    {
     "data": {
      "image/png": "[encoded data removed]",
      "text/plain": [
       "<Figure size 576x576 with 1 Axes>"
      ]
     },
     "metadata": {
      "needs_background": "light"
     },
     "output_type": "display_data"
    }
   ],
   "source": [
    "plt.figure(figsize = (8,8))\n",
    "sns.boxplot(df_train['data5'] )"
   ]
  },
  {
   "cell_type": "code",
   "execution_count": 40,
   "metadata": {},
   "outputs": [
    {
     "data": {
      "text/plain": [
       "<matplotlib.axes._subplots.AxesSubplot at 0x1cf0298edf0>"
      ]
     },
     "execution_count": 40,
     "metadata": {},
     "output_type": "execute_result"
    },
    {
     "data": {
      "image/png": "[encoded data removed]",
      "text/plain": [
       "<Figure size 576x576 with 1 Axes>"
      ]
     },
     "metadata": {
      "needs_background": "light"
     },
     "output_type": "display_data"
    }
   ],
   "source": [
    "plt.figure(figsize = (8,8))\n",
    "sns.boxplot(df_train['data6'] )"
   ]
  },
  {
   "cell_type": "code",
   "execution_count": 41,
   "metadata": {},
   "outputs": [
    {
     "data": {
      "text/plain": [
       "<matplotlib.axes._subplots.AxesSubplot at 0x1cf029eb940>"
      ]
     },
     "execution_count": 41,
     "metadata": {},
     "output_type": "execute_result"
    },
    {
     "data": {
      "image/png": "[encoded data removed]",
      "text/plain": [
       "<Figure size 576x576 with 1 Axes>"
      ]
     },
     "metadata": {
      "needs_background": "light"
     },
     "output_type": "display_data"
    }
   ],
   "source": [
    "plt.figure(figsize = (8,8))\n",
    "sns.boxplot(df_train['data7'] )"
   ]
  },
  {
   "cell_type": "code",
   "execution_count": 42,
   "metadata": {},
   "outputs": [
    {
     "data": {
      "text/plain": [
       "<matplotlib.axes._subplots.AxesSubplot at 0x1cf02a3cfd0>"
      ]
     },
     "execution_count": 42,
     "metadata": {},
     "output_type": "execute_result"
    },
    {
     "data": {
      "image/png": "[encoded data removed]",
      "text/plain": [
       "<Figure size 576x576 with 1 Axes>"
      ]
     },
     "metadata": {
      "needs_background": "light"
     },
     "output_type": "display_data"
    }
   ],
   "source": [
    "plt.figure(figsize = (8,8))\n",
    "sns.boxplot(df_train['data8'] )"
   ]
  },
  {
   "cell_type": "code",
   "execution_count": 43,
   "metadata": {},
   "outputs": [
    {
     "data": {
      "text/plain": [
       "<matplotlib.axes._subplots.AxesSubplot at 0x1cf029389d0>"
      ]
     },
     "execution_count": 43,
     "metadata": {},
     "output_type": "execute_result"
    },
    {
     "data": {
      "image/png": "[encoded data removed]",
      "text/plain": [
       "<Figure size 576x576 with 1 Axes>"
      ]
     },
     "metadata": {
      "needs_background": "light"
     },
     "output_type": "display_data"
    }
   ],
   "source": [
    "plt.figure(figsize = (8,8))\n",
    "sns.boxplot(df_train['data9'] )"
   ]
  },
  {
   "cell_type": "code",
   "execution_count": 44,
   "metadata": {},
   "outputs": [
    {
     "data": {
      "text/plain": [
       "<matplotlib.axes._subplots.AxesSubplot at 0x1cf02b316d0>"
      ]
     },
     "execution_count": 44,
     "metadata": {},
     "output_type": "execute_result"
    },
    {
     "data": {
      "image/png": "[encoded data removed]",
      "text/plain": [
       "<Figure size 576x576 with 1 Axes>"
      ]
     },
     "metadata": {
      "needs_background": "light"
     },
     "output_type": "display_data"
    }
   ],
   "source": [
    "plt.figure(figsize = (8,8))\n",
    "sns.boxplot(df_train['output'] )"
   ]
  },
  {
   "cell_type": "code",
   "execution_count": 45,
   "metadata": {},
   "outputs": [],
   "source": [
    "from sklearn.metrics import r2_score\n",
    "from sklearn.linear_model import LinearRegression"
   ]
  },
  {
   "cell_type": "code",
   "execution_count": 46,
   "metadata": {},
   "outputs": [],
   "source": [
    "X = df_train.drop(['output'], axis = 1, inplace = False)\n",
    "y = df_train['output']"
   ]
  },
  {
   "cell_type": "code",
   "execution_count": 47,
   "metadata": {},
   "outputs": [
    {
     "name": "stdout",
     "output_type": "stream",
     "text": [
      "(7496, 9) (2499, 9) (7496,) (2499,)\n"
     ]
    }
   ],
   "source": [
    "X_train, X_test, y_train, y_test = train_test_split(X,y,test_size = 0.25, random_state = 10)\n",
    "print(X_train.shape, X_test.shape, y_train.shape, y_test.shape)"
   ]
  },
  {
   "cell_type": "code",
   "execution_count": 48,
   "metadata": {},
   "outputs": [
    {
     "data": {
      "text/plain": [
       "LinearRegression()"
      ]
     },
     "execution_count": 48,
     "metadata": {},
     "output_type": "execute_result"
    }
   ],
   "source": [
    "regressor = LinearRegression()\n",
    "regressor.fit(X_train, y_train)"
   ]
  },
  {
   "cell_type": "code",
   "execution_count": 49,
   "metadata": {},
   "outputs": [
    {
     "data": {
      "text/html": [
       "<div>\n",
       "<style scoped>\n",
       "    .dataframe tbody tr th:only-of-type {\n",
       "        vertical-align: middle;\n",
       "    }\n",
       "\n",
       "    .dataframe tbody tr th {\n",
       "        vertical-align: top;\n",
       "    }\n",
       "\n",
       "    .dataframe thead th {\n",
       "        text-align: right;\n",
       "    }\n",
       "</style>\n",
       "<table border=\"1\" class=\"dataframe\">\n",
       "  <thead>\n",
       "    <tr style=\"text-align: right;\">\n",
       "      <th></th>\n",
       "      <th>Actual</th>\n",
       "      <th>Predicted</th>\n",
       "    </tr>\n",
       "  </thead>\n",
       "  <tbody>\n",
       "    <tr>\n",
       "      <th>942</th>\n",
       "      <td>80.829102</td>\n",
       "      <td>80.829102</td>\n",
       "    </tr>\n",
       "    <tr>\n",
       "      <th>4519</th>\n",
       "      <td>81.090249</td>\n",
       "      <td>81.090249</td>\n",
       "    </tr>\n",
       "    <tr>\n",
       "      <th>3653</th>\n",
       "      <td>77.292187</td>\n",
       "      <td>77.292187</td>\n",
       "    </tr>\n",
       "    <tr>\n",
       "      <th>197</th>\n",
       "      <td>68.697806</td>\n",
       "      <td>68.697806</td>\n",
       "    </tr>\n",
       "    <tr>\n",
       "      <th>8079</th>\n",
       "      <td>74.962615</td>\n",
       "      <td>74.962615</td>\n",
       "    </tr>\n",
       "    <tr>\n",
       "      <th>...</th>\n",
       "      <td>...</td>\n",
       "      <td>...</td>\n",
       "    </tr>\n",
       "    <tr>\n",
       "      <th>3694</th>\n",
       "      <td>69.297951</td>\n",
       "      <td>69.297951</td>\n",
       "    </tr>\n",
       "    <tr>\n",
       "      <th>4225</th>\n",
       "      <td>63.167783</td>\n",
       "      <td>63.167783</td>\n",
       "    </tr>\n",
       "    <tr>\n",
       "      <th>5118</th>\n",
       "      <td>80.154109</td>\n",
       "      <td>80.154109</td>\n",
       "    </tr>\n",
       "    <tr>\n",
       "      <th>6891</th>\n",
       "      <td>51.129944</td>\n",
       "      <td>51.129944</td>\n",
       "    </tr>\n",
       "    <tr>\n",
       "      <th>9900</th>\n",
       "      <td>73.370493</td>\n",
       "      <td>73.370493</td>\n",
       "    </tr>\n",
       "  </tbody>\n",
       "</table>\n",
       "<p>2499 rows × 2 columns</p>\n",
       "</div>"
      ],
      "text/plain": [
       "         Actual  Predicted\n",
       "942   80.829102  80.829102\n",
       "4519  81.090249  81.090249\n",
       "3653  77.292187  77.292187\n",
       "197   68.697806  68.697806\n",
       "8079  74.962615  74.962615\n",
       "...         ...        ...\n",
       "3694  69.297951  69.297951\n",
       "4225  63.167783  63.167783\n",
       "5118  80.154109  80.154109\n",
       "6891  51.129944  51.129944\n",
       "9900  73.370493  73.370493\n",
       "\n",
       "[2499 rows x 2 columns]"
      ]
     },
     "execution_count": 49,
     "metadata": {},
     "output_type": "execute_result"
    }
   ],
   "source": [
    "y_pred = regressor.predict(X_test)\n",
    "df_predict = pd.DataFrame({'Actual': y_test, 'Predicted': y_pred})\n",
    "df_predict"
   ]
  },
  {
   "cell_type": "code",
   "execution_count": 50,
   "metadata": {},
   "outputs": [
    {
     "data": {
      "text/plain": [
       "0.9999999983141522"
      ]
     },
     "execution_count": 50,
     "metadata": {},
     "output_type": "execute_result"
    }
   ],
   "source": [
    "r2_score(y_test, y_pred)"
   ]
  },
  {
   "cell_type": "code",
   "execution_count": 51,
   "metadata": {},
   "outputs": [],
   "source": [
    "from sklearn.neighbors import KNeighborsRegressor"
   ]
  },
  {
   "cell_type": "code",
   "execution_count": 52,
   "metadata": {},
   "outputs": [
    {
     "data": {
      "text/plain": [
       "KNeighborsRegressor(n_neighbors=9)"
      ]
     },
     "execution_count": 52,
     "metadata": {},
     "output_type": "execute_result"
    }
   ],
   "source": [
    "knn = KNeighborsRegressor(n_neighbors=9)\n",
    "knn.fit(X_train,y_train)\n"
   ]
  },
  {
   "cell_type": "code",
   "execution_count": 53,
   "metadata": {},
   "outputs": [
    {
     "data": {
      "text/html": [
       "<div>\n",
       "<style scoped>\n",
       "    .dataframe tbody tr th:only-of-type {\n",
       "        vertical-align: middle;\n",
       "    }\n",
       "\n",
       "    .dataframe tbody tr th {\n",
       "        vertical-align: top;\n",
       "    }\n",
       "\n",
       "    .dataframe thead th {\n",
       "        text-align: right;\n",
       "    }\n",
       "</style>\n",
       "<table border=\"1\" class=\"dataframe\">\n",
       "  <thead>\n",
       "    <tr style=\"text-align: right;\">\n",
       "      <th></th>\n",
       "      <th>Actual</th>\n",
       "      <th>Predicted</th>\n",
       "    </tr>\n",
       "  </thead>\n",
       "  <tbody>\n",
       "    <tr>\n",
       "      <th>942</th>\n",
       "      <td>80.829102</td>\n",
       "      <td>75.160475</td>\n",
       "    </tr>\n",
       "    <tr>\n",
       "      <th>4519</th>\n",
       "      <td>81.090249</td>\n",
       "      <td>79.105500</td>\n",
       "    </tr>\n",
       "    <tr>\n",
       "      <th>3653</th>\n",
       "      <td>77.292187</td>\n",
       "      <td>86.531384</td>\n",
       "    </tr>\n",
       "    <tr>\n",
       "      <th>197</th>\n",
       "      <td>68.697806</td>\n",
       "      <td>72.807772</td>\n",
       "    </tr>\n",
       "    <tr>\n",
       "      <th>8079</th>\n",
       "      <td>74.962615</td>\n",
       "      <td>79.722060</td>\n",
       "    </tr>\n",
       "    <tr>\n",
       "      <th>...</th>\n",
       "      <td>...</td>\n",
       "      <td>...</td>\n",
       "    </tr>\n",
       "    <tr>\n",
       "      <th>3694</th>\n",
       "      <td>69.297951</td>\n",
       "      <td>71.823756</td>\n",
       "    </tr>\n",
       "    <tr>\n",
       "      <th>4225</th>\n",
       "      <td>63.167783</td>\n",
       "      <td>64.712934</td>\n",
       "    </tr>\n",
       "    <tr>\n",
       "      <th>5118</th>\n",
       "      <td>80.154109</td>\n",
       "      <td>87.645388</td>\n",
       "    </tr>\n",
       "    <tr>\n",
       "      <th>6891</th>\n",
       "      <td>51.129944</td>\n",
       "      <td>52.089296</td>\n",
       "    </tr>\n",
       "    <tr>\n",
       "      <th>9900</th>\n",
       "      <td>73.370493</td>\n",
       "      <td>74.272533</td>\n",
       "    </tr>\n",
       "  </tbody>\n",
       "</table>\n",
       "<p>2499 rows × 2 columns</p>\n",
       "</div>"
      ],
      "text/plain": [
       "         Actual  Predicted\n",
       "942   80.829102  75.160475\n",
       "4519  81.090249  79.105500\n",
       "3653  77.292187  86.531384\n",
       "197   68.697806  72.807772\n",
       "8079  74.962615  79.722060\n",
       "...         ...        ...\n",
       "3694  69.297951  71.823756\n",
       "4225  63.167783  64.712934\n",
       "5118  80.154109  87.645388\n",
       "6891  51.129944  52.089296\n",
       "9900  73.370493  74.272533\n",
       "\n",
       "[2499 rows x 2 columns]"
      ]
     },
     "execution_count": 53,
     "metadata": {},
     "output_type": "execute_result"
    }
   ],
   "source": [
    "y_pred = knn.predict(X_test)\n",
    "df_predict = pd.DataFrame({'Actual': y_test, 'Predicted': y_pred})\n",
    "df_predict"
   ]
  },
  {
   "cell_type": "code",
   "execution_count": 54,
   "metadata": {},
   "outputs": [
    {
     "data": {
      "text/plain": [
       "0.8353110522132985"
      ]
     },
     "execution_count": 54,
     "metadata": {},
     "output_type": "execute_result"
    }
   ],
   "source": [
    "r2_score(y_test, y_pred)"
   ]
  },
  {
   "cell_type": "code",
   "execution_count": null,
   "metadata": {},
   "outputs": [],
   "source": []
  }
 ],
 "metadata": {
  "kernelspec": {
   "display_name": "Python 3",
   "language": "python",
   "name": "python3"
  },
  "language_info": {
   "codemirror_mode": {
    "name": "ipython",
    "version": 3
   },
   "file_extension": ".py",
   "mimetype": "text/x-python",
   "name": "python",
   "nbconvert_exporter": "python",
   "pygments_lexer": "ipython3",
   "version": "3.8.3"
  }
 },
 "nbformat": 4,
 "nbformat_minor": 4
}
